{
 "cells": [
  {
   "cell_type": "markdown",
   "metadata": {},
   "source": [
    "# Automation Code for Nexperia Database\n",
    "\n",
    "This code require some inputs including \n",
    "\n",
    "*. The directory path of the database to be sorted 2\n",
    "*. The extension list. This contains a list of all possible extensions and can be entered manually\n",
    "\n",
    "If this code runs successfully, a csv file named Required_Product_List should be generated in the path specified.\n",
    "You can rename this csv file by editing this function (generate_csv_header) and also correcting the function(writing_dict_rows)\n",
    "\n",
    "Written by: Ayodele Matthew\n",
    "For: Nexperia"
   ]
  },
  {
   "cell_type": "code",
   "execution_count": 1,
   "metadata": {},
   "outputs": [],
   "source": [
    "# All Libraries are imported here and variables declared\n",
    "# os module: This module provides a portable way of using operating system dependent functionality\n",
    "# csv module: The csv module implements classes to read and write tabular data in CSV format.\n",
    "# a comment print(os.getcwd()) was ended to the end  of this cell to know the working directory before \n",
    "#declariing the path\n",
    "\n",
    "import os\n",
    "import csv\n",
    "# print(os.getcwd())"
   ]
  },
  {
   "cell_type": "code",
   "execution_count": 2,
   "metadata": {},
   "outputs": [],
   "source": [
    "#some variables declared. \n",
    "#Extension list just by guessing the possible extenstions and creating a dictionary with them\n",
    "\n",
    "extension_list= ['Product Name','txt','S4P','cir','zip','docx','ibs','msg','log','prm','S2P','s4p','pdf','doc','xls','xlsx','csv']\n",
    "extension_dict = { i:'No' for i in extension_list}\n"
   ]
  },
  {
   "cell_type": "code",
   "execution_count": 3,
   "metadata": {},
   "outputs": [],
   "source": [
    "#The function product_list generate the product list by recieving path parameter from user.\n",
    "\n",
    "products_path = '..'\n",
    "def product_list(products_path):\n",
    "    products_list = []\n",
    "    for dir in os.listdir(products_path):\n",
    "        full_path_name = os.path.join(dir, products_path)\n",
    "        if os.path.isdir(full_path_name):\n",
    "            products_list.append(dir)\n",
    "    return products_list"
   ]
  },
  {
   "cell_type": "code",
   "execution_count": 4,
   "metadata": {},
   "outputs": [],
   "source": [
    "# This function create a csv file in specified path. takes the extension list as a parameter.\n",
    "\n",
    "def generate_csv_header(extension_list):\n",
    "    with open('Required_Product_List.csv','w', newline='') as csv_file:\n",
    "        writer = csv.DictWriter(csv_file, fieldnames=extension_list)\n",
    "        writer.writeheader()"
   ]
  },
  {
   "cell_type": "code",
   "execution_count": 5,
   "metadata": {},
   "outputs": [],
   "source": [
    "# This function writes the files available for each producted into the created csv file\n",
    "\n",
    "def writing_dict_rows(dict):\n",
    "    # Import DictWriter class from CSV module\n",
    "    from csv import DictWriter\n",
    "    with open('Required_Product_List.csv', 'a') as f_object:\n",
    "        dictwriter_object = DictWriter(f_object, dict.keys())\n",
    "        dictwriter_object.writerow(dict)\n",
    "        f_object.close()"
   ]
  },
  {
   "cell_type": "code",
   "execution_count": 6,
   "metadata": {},
   "outputs": [],
   "source": [
    "# This function copy the directory of the needed files\n",
    "\n",
    "def copy_file_url(new_path, extension_dict1,extension_list):\n",
    "    #needed_url = os.path.join(new_path)\n",
    "    #print(needed_url)\n",
    "    for ext in extension_list:\n",
    "        if new_path.endswith('.' + ext) and extension_dict1[ext] == 'No':\n",
    "            #print(ext)\n",
    "            extension_dict1[ext] = new_path\n",
    "            #change dictionary value\n",
    "            # go to next file or extension \n",
    "    return extension_dict1"
   ]
  },
  {
   "cell_type": "code",
   "execution_count": 7,
   "metadata": {},
   "outputs": [],
   "source": [
    "#Here is the main code that brings all the bits together.\n",
    "\n",
    "def iteration(extension_dict):\n",
    "    #Step 1: Create a copy of dictionary to be used for each product\n",
    "    extension_dict1 = dict(extension_dict)\n",
    "    #step 2: Create the product list. Easily by running the Product List function\n",
    "    products_list=product_list(products_path)\n",
    "    #step 3: Create the CSV with header before proceeding further\n",
    "    generate_csv_header(extension_list)\n",
    "    #step 4: iterate through each products to know what files are available\n",
    "    for product in products_list:\n",
    "        extension_dict1['Product Name'] = product\n",
    "        filename = os.path.join(products_path,product)\n",
    "        #step 5: Confirm it is indeed a product and not a file in tha main directory i.e It is a folder\n",
    "        #print(filename)\n",
    "        if os.path.isdir(filename) == True:\n",
    "            #Step 6: Iterate through the files available for each product\n",
    "            for file in os.listdir(filename):\n",
    "                new_path = os.path.join(filename,file)\n",
    "                #print(new_path)\n",
    "                #step 8: confirm It is indeed a file and not a directory.... maybe it's not neccesssary though\n",
    "                if os.path.isdir(new_path) == False:\n",
    "                    #step 9: Get the file path and extension\n",
    "                    copy_file_url(new_path,extension_dict1,extension_list)\n",
    "            \n",
    "            #step 10: write it into the created csv file\n",
    "            writing_dict_rows(extension_dict1) \n",
    "            #step 11: Initialize a new dictionary for the next iteration\n",
    "            extension_dict1 = dict(extension_dict)\n",
    "            #print(extension_dict)\n",
    "                    \n"
   ]
  },
  {
   "cell_type": "code",
   "execution_count": 8,
   "metadata": {
    "scrolled": true
   },
   "outputs": [],
   "source": [
    "#call the main function\n",
    "iteration(extension_dict)"
   ]
  }
 ],
 "metadata": {
  "kernelspec": {
   "display_name": "Python 3",
   "language": "python",
   "name": "python3"
  },
  "language_info": {
   "codemirror_mode": {
    "name": "ipython",
    "version": 3
   },
   "file_extension": ".py",
   "mimetype": "text/x-python",
   "name": "python",
   "nbconvert_exporter": "python",
   "pygments_lexer": "ipython3",
   "version": "3.8.5"
  }
 },
 "nbformat": 4,
 "nbformat_minor": 4
}
