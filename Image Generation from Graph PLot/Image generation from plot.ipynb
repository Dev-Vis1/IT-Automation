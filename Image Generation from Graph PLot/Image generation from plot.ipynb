{
 "cells": [
  {
   "cell_type": "code",
   "execution_count": 6,
   "metadata": {},
   "outputs": [],
   "source": [
    "import pandas as pd\n",
    "import plotly.graph_objects as go\n",
    "import os"
   ]
  },
  {
   "cell_type": "code",
   "execution_count": 7,
   "metadata": {},
   "outputs": [],
   "source": [
    "data = pd.read_csv('001_18A_100.0V.csv')\n",
    "fulllname = 'why'\n",
    "trace1 = go.Scatter(x = data[\"Time_ns\"], y =data[\"Wfm4\"], mode =\"lines\")\n",
    "layout = go.Layout(title=\"Doesn't Matter\", xaxis ={'title': \"Time_ns\"}, yaxis = {'title':\"wfm4\"})\n",
    "fig = go.Figure(data=[trace1], layout = layout)\n",
    "fig.write_image(fulllname + \".png\")"
   ]
  },
  {
   "cell_type": "code",
   "execution_count": null,
   "metadata": {},
   "outputs": [],
   "source": [
    "path = \"./wfm/\"\n",
    "n = 1\n",
    "for files in os.listdir(path):\n",
    "    full_path_name = os.path.join(path, files)\n",
    "    data = pd.read_csv(full_path_name)\n",
    "    trace1 = go.Scatter(x = data[\"Time_ns\"], y =data[\"Wfm4\"], mode =\"lines\")\n",
    "    layout = go.Layout(title=\"Doesn't Matter\", xaxis ={'title': \"Time_ns\"}, yaxis = {'title':\"wfm4\"})\n",
    "    fig = go.Figure(data=[trace1], layout = layout)\n",
    "    fig.write_image(\"images/\" + n + \".png\")\n",
    "    n = n + 1"
   ]
  }
 ],
 "metadata": {
  "kernelspec": {
   "display_name": "Python 3",
   "language": "python",
   "name": "python3"
  },
  "language_info": {
   "codemirror_mode": {
    "name": "ipython",
    "version": 3
   },
   "file_extension": ".py",
   "mimetype": "text/x-python",
   "name": "python",
   "nbconvert_exporter": "python",
   "pygments_lexer": "ipython3",
   "version": "3.8.5"
  }
 },
 "nbformat": 4,
 "nbformat_minor": 4
}
