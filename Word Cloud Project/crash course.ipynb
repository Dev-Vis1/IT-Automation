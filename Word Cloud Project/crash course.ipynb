{
 "cells": [
  {
   "cell_type": "code",
   "execution_count": 21,
   "metadata": {
    "scrolled": true
   },
   "outputs": [
    {
     "data": {
      "text/plain": [
       "False"
      ]
     },
     "execution_count": 21,
     "metadata": {},
     "output_type": "execute_result"
    }
   ],
   "source": [
    "file_contents= 'In dealing with the evolution of home industry and its effects upon the status of women, it will be necessary to note briefly the status of the sexes before marked differentiation took place. As a matter of fact, we know very little about mankind before the beginning of recorded history. It is true we have various examples of primitive culture existing at the present time, and to a considerable degree they illustrate the different stages of culture through which civilization has passed; but there is no proof that different types of social development have not existed in the earlier periods. These different types may have been out of harmony with the existing environment, and hence were eliminated by the struggle for existence. It does not follow that the eliminated types were inferior to the surviving one, but that they proved less fit in a conflict of certain forces. For instance, a peaceable race has often been at a disadvantage when contending with a warlike and aggressive one, and its institutions have been overthrown in the struggle. What has been true in the conflict of races may be equally true in a conflict for authority between the sexes, if such a conflict ever existed. In a period of history when severe struggles between peoples were common, feminine rule was not compatible with such struggle. The commonly accepted theory is that men hold their position of recognized superiority over women by virtue of an inherent superiority; that sexual differences as measured by world achievements are characteristic of all races. This is the androcentric theory which is described by Ward as “the view that the male sex is primary and the female sex secondary in the organic scheme, that all things center, as it were, about the male, and that the female, though necessary to carrying out[Pg 6] the scheme, is only the means of continuing the life of the globe, but it is otherwise an unimportant accessory, and incidental factor in the general result.”[1] This theory has been accepted as a fact for ages; it has been sanctioned by all religions and by custom. In the minds of many people it had been established as one of the certainties removed from the province of doubt. Indeed, so many facts have been brought forth in proof of this theory that in the past to question it simply invited ridicule. According to the androcentric theory man alone is responsible for the development of our social institutions, and woman’s progressive evolution has been one of constant adaptation; never one of innovation. “Woman is the lesser man” and her achievements have always been measured by masculine standards. A new theory has been advanced by Ward which merits careful consideration. He calls it the gynaecocentric theory. It is the “view that the female sex is primary and the male secondary in the organic scheme, that originally and normally all things center, as it were, about the female, and that the male, though not necessary to carrying out the scheme, was developed under the operation of the principle of advantage to secure organic progress through the crossing of strains. The theory further claims that the apparent male superiority in the human race and in certain of the higher animals and birds is the result of specialization in extra-normal directions due to adventitious causes which have nothing to do with the general scheme, but which can be explained on biological principles; that it only applies to certain characters, and to a relatively small number of genera and families. It accounts for the prevalence of the androcentric theory by the superficial character of human knowledge of such subjects, chiefly influenced by the illusion of the near, but largely, in the case of man at least, by tradition, convention, and prejudice.”[2] Students of primitive history are not agreed as to whether there has ever existed a people among whom women held sway. The tendency is to discredit the evidence offered for the theory[Pg 7] of female rule. If such peoples existed, none have survived to play an important part in history. This fact seems to indicate that, other things being equal, female rule was not compatible with the evolution of our present civilization, if by female rule we mean the recognized superiority of the female sex at a time when authority rested solely in the hands of the successful fighters on behalf of the tribe. Political power implied the exercise of protection. Hence if women held the balance of power in a primitive community constantly engaged in warfare—success in warfare being the only measure of one’s worth—the insecurity of their lives, and the constant depletion of their numbers would materially affect the increase of numbers within the tribe, and in time weaken the tribe in contending with enemies. Elimination or absorption by other tribes would be inevitable. Without discussing the theory that woman is by nature conservative while man is variable, it is evident that only the women who clung most tenaciously to custom left offspring. The women who varied from the established order by their radical or individualistic characteristics devoted their lives to a cause, usually of a religious nature, and left no offspring. On the other hand, the most aggressive men were most successful in winning wives and were able to transmit their variable qualities, while less aggressive natures tended to leave no descendants. Therefore, much that is attributed to sexual differentiation may be due in part to an environment favorable to a type; to social institutions more favorable to the survival of conservative females and variable males; to the elimination of those females in whom inherited variable tendencies did not remain dormant. It is reasonable to believe that in the primitive horde there existed a degree of equality between the sexes, but “at the beginning of the historical period woman was under the complete subjection of man. She had so long been a mere slave and drudge that she had lost all the higher attributes she originally possessed.”[3] Many forces have played an important part in the evolution of the social status of women. The mother instinct which[Pg 8] prompted women to prefer the interests of their children to their own prevented them from concentrating their attention on activities not directly concerned with the care of the children and made it possible to subject a whole sex to an inferior position, irrespective of their numbers, and to make them apparently contented with their lot. The beginning of the race was associated with a keen struggle for subsistence. If promiscuity was the earliest form of mating, the greatest burden of support would naturally devolve upon woman and would handicap her when it came to meeting or evading enemies. But if the father of her children remained as a protector, at least while the child was helpless, this handicap would be removed. Whether she was actually provided with subsistence or protected from enemies in the beginning, we know she did receive protection by virtue of her sex before the race advanced very far in its social development. This protection largely exempted her from warlike struggle, but it also deprived her almost entirely of the communal authority that had its basis in such a struggle. What was a gain to the individual woman was a loss to her sex in social position. The supremacy that one sex, class or race gains over another, does not necessarily arise out of far sighted action, having in view a definite goal. In the early struggle of our race, the loss of power by woman and the gain by man was incidental and not the result of a struggle for authority between the sexes. The same general principle applied to economic life. Whatever woman gained in the early industrial activities of the race which gave her the right to claim precedence in this field, she lost as industry departed from the hearth. History does not show women struggling for authority before the domination of machine industry, or struggling to maintain a position which would give them prestige in the tribe or state. It is true women have taken part in some of the great movements and revolutions of society, such as the Crusades, or the French revolution but only when the country in question was thrown into an emotional state, and when all other considerations were pushed into the background by the predominant passion. They have taken part in these struggles, and often[Pg 9] shown greater frenzy than men in their efforts to attain their desired goal. They had not yet learned the lesson of self control forced upon men by their economic struggles. Economic struggles have always brought men into other relationships with their fellow men than the purely social. Such has not been the lot of women.'\n",
    "punctuation = '''!()“-”[]’{};:'\"\\,<>./?@#$%^&*_~'''\n",
    "file_contents = file_contents.lower()\n",
    "list =[*punctuation]\n",
    "file_contents = file_contents.translate({ord(x): '' for x in list})\n",
    "\n",
    "uninteresting_words = [\"the\", \"a\", \"to\", \"if\", \"is\", \"it\", \"of\", \"and\", \"or\", \"an\", \"as\", \"i\", \"me\", \"my\", \\\n",
    "    \"we\", \"our\", \"ours\", \"you\", \"your\", \"yours\", \"he\", \"she\", \"him\", \"his\", \"her\", \"hers\", \"its\", \"they\", \"them\", \\\n",
    "    \"their\", \"what\", \"which\", \"who\", \"whom\", \"this\", \"that\", \"am\", \"are\", \"was\", \"were\", \"be\", \"been\", \"being\", \\\n",
    "    \"have\", \"has\", \"had\", \"do\", \"does\", \"did\", \"but\", \"at\", \"by\", \"with\", \"from\", \"here\", \"when\", \"where\", \"how\", \\\n",
    "    \"all\", \"any\", \"both\", \"each\", \"few\", \"more\", \"some\", \"such\", \"no\", \"nor\", \"too\", \"very\", \"can\", \"will\", \"just\"]\n",
    "\n",
    "\n",
    "for word in uninteresting_words:\n",
    "    file_contents = file_contents.replace(' '+ word+' ', ' ')\n",
    "    \n",
    "\n",
    "\n",
    "'struggle\\r\\n\\r\\nthe'.isalpha()"
   ]
  },
  {
   "cell_type": "code",
   "execution_count": null,
   "metadata": {},
   "outputs": [],
   "source": []
  },
  {
   "cell_type": "code",
   "execution_count": null,
   "metadata": {},
   "outputs": [],
   "source": []
  },
  {
   "cell_type": "code",
   "execution_count": null,
   "metadata": {},
   "outputs": [],
   "source": []
  }
 ],
 "metadata": {
  "kernelspec": {
   "display_name": "Python 3",
   "language": "python",
   "name": "python3"
  },
  "language_info": {
   "codemirror_mode": {
    "name": "ipython",
    "version": 3
   },
   "file_extension": ".py",
   "mimetype": "text/x-python",
   "name": "python",
   "nbconvert_exporter": "python",
   "pygments_lexer": "ipython3",
   "version": "3.8.5"
  }
 },
 "nbformat": 4,
 "nbformat_minor": 4
}
